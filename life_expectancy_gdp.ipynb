{
 "cells": [
  {
   "cell_type": "markdown",
   "metadata": {},
   "source": [
    "# Life Expectancy and GDP Analysis\n",
    "\n",
    "This project aims to analyze and understand the relationship between Life Expectancy and Gross Domestic Product (GDP) across various countries. Through this analysis, we seek insights into how economic factors may influence health and longevity at a global scale.\n",
    "\n",
    "The data used in this project comes from two reliable sources: the World Health Organization (WHO) and the World Bank, providing comprehensive indicators on life expectancy and economic performance.\n",
    "\n",
    "Let's dive into the data to explore patterns, trends, and correlations that might highlight the impact of GDP on life expectancy.\n"
   ]
  }
 ],
 "metadata": {
  "kernelspec": {
   "display_name": "Python 3 (ipykernel)",
   "language": "python",
   "name": "python3"
  },
  "language_info": {
   "codemirror_mode": {
    "name": "ipython",
    "version": 3
   },
   "file_extension": ".py",
   "mimetype": "text/x-python",
   "name": "python",
   "nbconvert_exporter": "python",
   "pygments_lexer": "ipython3",
   "version": "3.11.9"
  }
 },
 "nbformat": 4,
 "nbformat_minor": 4
}
